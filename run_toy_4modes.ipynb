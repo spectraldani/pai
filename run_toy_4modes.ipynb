{
 "cells": [
  {
   "cell_type": "markdown",
   "metadata": {},
   "source": [
    "# Prelude"
   ]
  },
  {
   "cell_type": "code",
   "execution_count": 1,
   "metadata": {},
   "outputs": [],
   "source": [
    "import copy\n",
    "import pickle\n",
    "import random\n",
    "import warnings\n",
    "from pathlib import Path\n",
    "from types import SimpleNamespace\n",
    "\n",
    "import botorch\n",
    "import gpytorch\n",
    "import numpy as np\n",
    "import torch\n",
    "from sklearn_extra.cluster import KMedoids\n",
    "\n",
    "import lib.priors\n",
    "from extras import kernel_maker, train_gp, multi_start_train, initialize_model, assign_priors, assign_parameter_dists\n",
    "from lib.acquisitions import MAXIQR\n",
    "\n",
    "\n",
    "def cantor_pairing(x, y):\n",
    "    return (((x + y) * (x + y + 1)) // 2 + y) % 2147483647\n",
    "\n",
    "\n",
    "def reset_seed(seed, i):\n",
    "    pair_seed = cantor_pairing(seed, i)\n",
    "    torch.manual_seed(pair_seed)\n",
    "    random.seed(pair_seed)\n",
    "    np.random.seed(pair_seed)\n",
    "    return pair_seed\n",
    "\n",
    "\n",
    "def kmedoids(x, n_clusters, random_state, max_iter, **kwargs):\n",
    "    km = KMedoids(n_clusters=n_clusters, random_state=random_state, max_iter=max_iter, **kwargs).fit(x)\n",
    "\n",
    "    keep_index = np.zeros(x.shape[0], dtype=bool)\n",
    "    keep_index[km.medoid_indices_] = True\n",
    "    return keep_index"
   ]
  },
  {
   "cell_type": "markdown",
   "metadata": {},
   "source": [
    "## Experiment parameters"
   ]
  },
  {
   "cell_type": "code",
   "execution_count": 2,
   "metadata": {
    "collapsed": false,
    "jupyter": {
     "outputs_hidden": false
    },
    "pycharm": {
     "name": "#%%\n"
    }
   },
   "outputs": [],
   "source": [
    "result_folder = Path('./results/')\n",
    "result_folder.mkdir(parents=True, exist_ok=True)\n",
    "\n",
    "initial_seed = 0\n",
    "n_chains = 2\n",
    "sample_size = 1000\n",
    "n_subposteriors = 3"
   ]
  },
  {
   "cell_type": "markdown",
   "metadata": {},
   "source": [
    "From this point onwards, the each cell can be run independently"
   ]
  },
  {
   "cell_type": "markdown",
   "metadata": {},
   "source": [
    "# Sample subposteriors"
   ]
  },
  {
   "cell_type": "code",
   "execution_count": 3,
   "metadata": {
    "collapsed": false,
    "jupyter": {
     "outputs_hidden": false
    },
    "pycharm": {
     "name": "#%%\n"
    }
   },
   "outputs": [
    {
     "name": "stderr",
     "output_type": "stream",
     "text": [
      "INFO:pystan:COMPILING THE C++ CODE FOR MODEL PolynomialPosterior_ae3b682dcc0a47dd97ee94c04f408515 NOW.\n"
     ]
    }
   ],
   "source": [
    "for i in range(n_subposteriors):\n",
    "    random_seed = reset_seed(initial_seed, i)\n",
    "    rng = np.random.default_rng(random_seed)\n",
    "    n = 1000\n",
    "    std = 0.75\n",
    "    roots = [[-0.6, 0.6], [-0.6, 0.6]]\n",
    "    observations = rng.normal(size=(n, 1), scale=std)\n",
    "\n",
    "    sub_posterior = lib.distributions.PolynomialPosterior(\n",
    "        observations,\n",
    "        roots=roots, std=std, parallel_factor=1 / n_subposteriors\n",
    "    )\n",
    "    # subdists, sample_size, D+1\n",
    "    subposterior_samples = sub_posterior.sample(sample_size=sample_size, seed=random_seed, chains=n_chains)\n",
    "    d = subposterior_samples.shape[-1] - 1\n",
    "    samples_min = subposterior_samples[..., :d].min(axis=0)\n",
    "    samples_max = subposterior_samples[..., :d].max(axis=0)\n",
    "    bounds = np.array([\n",
    "        samples_min * np.where(samples_min > 0, 0.9, 1.1),\n",
    "        samples_max * np.where(samples_max > 0, 1.1, 0.9)\n",
    "    ])\n",
    "    with open(result_folder / f'{i}_subposterior.pkl', 'wb') as f:\n",
    "        pickle.dump(SimpleNamespace(\n",
    "            d=d,\n",
    "            samples=subposterior_samples,\n",
    "            bounds=bounds,\n",
    "            sub_posterior=sub_posterior,\n",
    "        ), f)"
   ]
  },
  {
   "cell_type": "markdown",
   "metadata": {},
   "source": [
    "# Fit initial GP"
   ]
  },
  {
   "cell_type": "code",
   "execution_count": 4,
   "metadata": {
    "collapsed": false,
    "jupyter": {
     "outputs_hidden": false
    },
    "pycharm": {
     "name": "#%%\n"
    }
   },
   "outputs": [],
   "source": [
    "# Always use Cholesky\n",
    "gpytorch.settings.fast_computations(covar_root_decomposition=False, log_prob=False, solves=False).__enter__()"
   ]
  },
  {
   "cell_type": "code",
   "execution_count": 5,
   "metadata": {
    "collapsed": false,
    "jupyter": {
     "outputs_hidden": false
    },
    "pycharm": {
     "name": "#%%\n"
    }
   },
   "outputs": [
    {
     "name": "stderr",
     "output_type": "stream",
     "text": [
      "C:\\Users\\sentr\\Programas\\miniconda\\envs\\ebmcgp\\lib\\site-packages\\ipykernel_launcher.py:41: UserWarning: This overload of nonzero is deprecated:\n",
      "\tnonzero()\n",
      "Consider using one of the following signatures instead:\n",
      "\tnonzero(*, bool as_tuple) (Triggered internally at  ..\\torch\\csrc\\utils\\python_arg_parser.cpp:882.)\n"
     ]
    }
   ],
   "source": [
    "for i in range(n_subposteriors):\n",
    "    random_seed = reset_seed(initial_seed, i)\n",
    "\n",
    "    namespace = pickle.loads((result_folder / f'{i}_subposterior.pkl').read_bytes())\n",
    "    d, samples, bounds = namespace.d, namespace.samples, torch.from_numpy(namespace.bounds)\n",
    "    del namespace\n",
    "\n",
    "    # %% Create GP\n",
    "\n",
    "    selected_idx = kmedoids(samples, n_clusters=20 * (d + 2), max_iter=1000, random_state=random_seed,\n",
    "                            init='k-medoids++')\n",
    "    gp = lib.gps.LogLikelihoodModel(\n",
    "        torch.tensor(samples[selected_idx, :d]),\n",
    "        torch.tensor(samples[selected_idx, d]),\n",
    "        kernel_maker=kernel_maker(d)\n",
    "    )\n",
    "\n",
    "    gp.cpu()\n",
    "    initialize_model(gp, bounds)\n",
    "    assign_priors(gp, bounds)\n",
    "    stage_1_results = multi_start_train(gp, num_starts=5, num_samples=50, gtol=1e-8)\n",
    "\n",
    "    with open(result_folder / f'{i}_stage_1.pkl', 'wb') as f:\n",
    "        pickle.dump(SimpleNamespace(\n",
    "            results=stage_1_results,\n",
    "            x=gp.train_inputs[0], y=gp.train_targets,\n",
    "            bounds=bounds\n",
    "        ), f)\n",
    "\n",
    "    # %% Training set acquisition\n",
    "    acq = MAXIQR(gp, 50)\n",
    "    rounds = 25\n",
    "    batch_size = d\n",
    "    remaining_idx = torch.tensor(~selected_idx)\n",
    "\n",
    "    batched_samples = torch.from_numpy(samples[:, :d]).view(-1, 1, d)\n",
    "    stage_2_results = [None] * rounds\n",
    "    for j in range(rounds):\n",
    "        gp.eval()\n",
    "        for _ in range(batch_size):\n",
    "            samples_score = acq.forward(batched_samples[remaining_idx])\n",
    "            best_idx = remaining_idx.nonzero().view(-1)[torch.argmax(samples_score)]\n",
    "            remaining_idx[best_idx] = False\n",
    "            acq.set_X_pending(batched_samples[[best_idx], 0, :])\n",
    "        gp.set_train_data(\n",
    "            inputs=torch.tensor(samples[~remaining_idx, :d]).view(-1, d),\n",
    "            targets=torch.tensor(samples[~remaining_idx, d]),\n",
    "            strict=False\n",
    "        )\n",
    "        acq.set_X_pending(None)\n",
    "        try:\n",
    "            assign_parameter_dists(gp, bounds)\n",
    "            assign_priors(gp, bounds)\n",
    "            stage_2_results[j] = multi_start_train(gp, num_starts=5, num_samples=50, gtol=1e-8, try_initial=True)\n",
    "        except gpytorch.utils.errors.NotPSDError:\n",
    "            #         stage_2_results[j] =  None\n",
    "            raise RuntimeError(f'GP {i} has failed on stage 2, round {j}')\n",
    "\n",
    "    (result_folder / f'{i}_stage_2.pkl').write_bytes(pickle.dumps(SimpleNamespace(\n",
    "        results=stage_2_results[-1],\n",
    "        x=gp.train_inputs[0], y=gp.train_targets,\n",
    "        bounds=bounds,\n",
    "        acq_results=stage_2_results\n",
    "    )))"
   ]
  },
  {
   "cell_type": "markdown",
   "metadata": {},
   "source": [
    "# Sample sharing"
   ]
  },
  {
   "cell_type": "code",
   "execution_count": 6,
   "metadata": {
    "collapsed": false,
    "jupyter": {
     "outputs_hidden": false
    },
    "pycharm": {
     "name": "#%%\n"
    }
   },
   "outputs": [],
   "source": [
    "for i in range(n_subposteriors):\n",
    "    random_seed = reset_seed(initial_seed, i)\n",
    "\n",
    "    past_results = [\n",
    "        pickle.loads((result_folder / f'{i}_stage_2.pkl').read_bytes())\n",
    "        for i in range(n_subposteriors)\n",
    "    ]\n",
    "\n",
    "    subposterior = pickle.loads((result_folder / f'{i}_subposterior.pkl').read_bytes()).sub_posterior\n",
    "\n",
    "    my_past_result = past_results[i]\n",
    "    d = my_past_result.x.shape[-1]\n",
    "\n",
    "    samples_min = np.min([r.bounds[0].numpy() for r in past_results], axis=0)\n",
    "    samples_max = np.max([r.bounds[1].numpy() for r in past_results], axis=0)\n",
    "\n",
    "    numpy_bounds = np.array([\n",
    "        samples_min * np.where(samples_min > 0, 0.9, 1.1),\n",
    "        samples_max * np.where(samples_max > 0, 1.1, 0.9)\n",
    "    ])\n",
    "\n",
    "    gp = lib.gps.LogLikelihoodModel(my_past_result.x, my_past_result.y, kernel_maker=kernel_maker(d))\n",
    "\n",
    "    gp.cpu()\n",
    "    initialize_model(gp, torch.tensor(numpy_bounds))\n",
    "    gp.load_state_dict(my_past_result.results[0].state_dict, strict=False)\n",
    "    assign_priors(gp, torch.tensor(numpy_bounds))\n",
    "\n",
    "    predictive_density_threshold = 0.01\n",
    "    logpdf_threshold = my_past_result.y.max() - 20 * d\n",
    "\n",
    "    selected_shared_samples = [None] * n_subposteriors\n",
    "    selected_shared_samples[i] = torch.tensor([])\n",
    "    for j in range(n_subposteriors):\n",
    "        if i == j:\n",
    "            continue\n",
    "\n",
    "        samples_to_share = past_results[j].x\n",
    "        f_actual = torch.from_numpy(subposterior.logpdf(samples_to_share.numpy())).to(gp.train_inputs[0])\n",
    "\n",
    "        f_pred = gp.posterior(samples_to_share).mvn\n",
    "\n",
    "        predictive_density = f_pred.to_data_independent_dist().log_prob(f_actual).exp()\n",
    "\n",
    "        selection_criteria = (predictive_density < predictive_density_threshold)\n",
    "        selection_criteria &= (f_pred.loc >= logpdf_threshold) | (f_actual >= logpdf_threshold)\n",
    "\n",
    "        selected_shared_samples[j] = samples_to_share[selection_criteria]\n",
    "\n",
    "    selected_shared_samples = torch.cat(selected_shared_samples, dim=0)\n",
    "\n",
    "    if selected_shared_samples.shape[0] > 25 * d:\n",
    "        selected_shared_samples = selected_shared_samples[\n",
    "            kmedoids(selected_shared_samples.numpy(), 25 * d, max_iter=1000, random_state=random_seed,\n",
    "                     init='k-medoids++')]\n",
    "\n",
    "    # Add and train\n",
    "    gp.set_train_data(\n",
    "        inputs=torch.cat([gp.train_inputs[0], selected_shared_samples], dim=0).to(gp.train_inputs[0]),\n",
    "        targets=torch.cat([gp.train_targets, torch.from_numpy(subposterior.logpdf(selected_shared_samples.numpy()))],\n",
    "                          dim=0).to(gp.train_targets),\n",
    "        strict=False\n",
    "    )\n",
    "\n",
    "    initialize_model(gp, torch.tensor(numpy_bounds))\n",
    "    gp.load_state_dict(my_past_result.results[0].state_dict, strict=False)\n",
    "    assign_priors(gp, torch.tensor(numpy_bounds))\n",
    "    assign_parameter_dists(gp, torch.tensor(numpy_bounds))\n",
    "\n",
    "    try:\n",
    "        stage_3_results = multi_start_train(gp, num_starts=5, num_samples=50, gtol=1e-8, try_initial=True)\n",
    "    except gpytorch.utils.errors.NotPSDError:\n",
    "        stage_3_results = None\n",
    "        raise RuntimeError(f'GP {i} has failed on stage 3')\n",
    "\n",
    "    (result_folder / f'{i}_stage_3.pkl').write_bytes(pickle.dumps(SimpleNamespace(\n",
    "        results=stage_3_results,\n",
    "        x=gp.train_inputs[0], y=gp.train_targets,\n",
    "        bounds=torch.tensor(numpy_bounds)\n",
    "    )))"
   ]
  },
  {
   "cell_type": "markdown",
   "metadata": {},
   "source": [
    "# Active sampling"
   ]
  },
  {
   "cell_type": "code",
   "execution_count": 7,
   "metadata": {
    "collapsed": false,
    "jupyter": {
     "outputs_hidden": false
    },
    "pycharm": {
     "name": "#%%\n"
    }
   },
   "outputs": [],
   "source": [
    "for i in range(n_subposteriors):\n",
    "    random_seed = reset_seed(initial_seed, i)\n",
    "\n",
    "    my_past_result = pickle.loads((result_folder / f'{i}_stage_3.pkl').read_bytes())\n",
    "    d = my_past_result.x.shape[-1]\n",
    "    bounds = my_past_result.bounds\n",
    "\n",
    "    gp = lib.gps.LogLikelihoodModel(my_past_result.x, my_past_result.y, kernel_maker=kernel_maker(d))\n",
    "    subposterior = pickle.loads((result_folder / f'{i}_subposterior.pkl').read_bytes()).sub_posterior\n",
    "\n",
    "    gp.cpu()\n",
    "    initialize_model(gp, bounds)\n",
    "    gp.load_state_dict(my_past_result.results[0].state_dict, strict=False)\n",
    "    assign_priors(gp, bounds)\n",
    "\n",
    "    past_state = copy.deepcopy(gp.state_dict())\n",
    "\n",
    "    acquisition_num = 25\n",
    "    batch_acquisition_size = d\n",
    "    candidates_list = np.empty((acquisition_num, batch_acquisition_size, d + 1), dtype=float)\n",
    "\n",
    "    acq = MAXIQR(gp, 50)\n",
    "    acq.cpu()\n",
    "    results = np.empty(acquisition_num, dtype=object)\n",
    "    for j in range(acquisition_num):\n",
    "        gp.eval()\n",
    "        with warnings.catch_warnings():\n",
    "            warnings.simplefilter(\"ignore\")\n",
    "            candidates, _ = botorch.optim.optimize.optimize_acqf(\n",
    "                acq, bounds, q=batch_acquisition_size, num_restarts=15, raw_samples=256, sequential=True\n",
    "            )\n",
    "            with torch.no_grad():\n",
    "                candidates_y = torch.from_numpy(subposterior.logpdf(candidates[..., :d].cpu().numpy())).to(candidates)\n",
    "            candidates_list[j, :, :d] = candidates.reshape(-1, d)\n",
    "            candidates_list[j, :, d] = candidates_y.numpy().reshape(-1)\n",
    "            train_x = gp.train_inputs[0]\n",
    "            train_y = gp.train_targets\n",
    "            gp.set_train_data(\n",
    "                inputs=torch.cat([train_x, candidates.to(train_x)], dim=0),\n",
    "                targets=torch.cat([train_y, candidates_y.to(train_y)], dim=0),\n",
    "                strict=False\n",
    "            )\n",
    "            gp.train()\n",
    "            try:\n",
    "                assign_priors(gp, bounds)\n",
    "                if j < 5:\n",
    "                    assign_parameter_dists(gp, bounds)\n",
    "                    results[j] = multi_start_train(gp, num_starts=5, num_samples=10, gtol=1e-8, try_initial=True,\n",
    "                                                   initial_maxiter=100)\n",
    "                else:\n",
    "                    results[j] = train_gp(gp, maxiter=100, gtol=1e-8)\n",
    "            except gpytorch.utils.errors.NotPSDError:\n",
    "                raise\n",
    "\n",
    "    (result_folder / f'{i}_stage_4.pkl').write_bytes(pickle.dumps(SimpleNamespace(\n",
    "        results=results[-1],\n",
    "        x=gp.train_inputs[0], y=gp.train_targets,\n",
    "        bounds=bounds,\n",
    "        acq_results=results,\n",
    "        past_state=past_state,\n",
    "        candidates_list=candidates_list,\n",
    "    )))"
   ]
  },
  {
   "cell_type": "markdown",
   "metadata": {},
   "source": [
    "# Plotting"
   ]
  },
  {
   "cell_type": "code",
   "execution_count": 8,
   "metadata": {},
   "outputs": [],
   "source": [
    "past_results = [\n",
    "    pickle.loads((result_folder / f'{i}_stage_4.pkl').read_bytes())\n",
    "    for i in range(n_subposteriors)\n",
    "]\n",
    "d = past_results[0].x.shape[-1]\n",
    "bounds = past_results[0].bounds\n",
    "\n",
    "gps = [\n",
    "    lib.gps.LogLikelihoodModel(past_results[i].x, past_results[i].y, kernel_maker=kernel_maker(d))\n",
    "    for i in range(n_subposteriors)\n",
    "]\n",
    "\n",
    "subposteriors = [\n",
    "    pickle.loads((result_folder / f'{i}_subposterior.pkl').read_bytes()).sub_posterior\n",
    "    for i in range(n_subposteriors)\n",
    "]\n",
    "\n",
    "for i, gp in enumerate(gps):\n",
    "    gp.cpu()\n",
    "    initialize_model(gp, bounds)\n",
    "    gp.load_state_dict(past_results[i].results[0].state_dict, strict=False)\n",
    "    assign_priors(gp, bounds)\n",
    "    gp.eval()\n",
    "\n",
    "\n",
    "def make_grid(bounds, lin_n):\n",
    "    lin_x = np.linspace(bounds[0], bounds[1], num=lin_n)\n",
    "    dx = lin_x[1] - lin_x[0]\n",
    "    grid_x = np.stack(np.meshgrid(*(lin_x[:, i] for i in range(d)), indexing='ij'), axis=-1)\n",
    "\n",
    "    return grid_x, dx, lin_x\n",
    "\n",
    "\n",
    "plot_bounds = np.array([[-1, -1], [1, 1]])\n",
    "n_lin = 500\n",
    "grid_x, dx, lin_x = make_grid(plot_bounds, n_lin)\n",
    "\n",
    "\n",
    "def combine_logpdfs(log_pdfs):\n",
    "    start = next(log_pdfs)\n",
    "    return sum(log_pdfs, start)\n",
    "\n",
    "\n",
    "def eval_grid(grid_x, f, block_size=1_000):\n",
    "    d = dx.shape[0]\n",
    "    if block_size == 0:\n",
    "        grid_y = f(grid_x.reshape(-1, d)).reshape(grid_x.shape[:2])\n",
    "    else:\n",
    "        grid_y = np.zeros(grid_x.shape[:-1])\n",
    "        for i in range(0, np.prod(grid_x.shape[:-1]), block_size):\n",
    "            f_input = grid_x.flat[i * d:(i + block_size) * d].view()\n",
    "            f_input.shape = (-1, d)\n",
    "            grid_y.flat[i:i + block_size] = f(f_input).reshape(-1)\n",
    "    grid_y = grid_y - grid_y.max()\n",
    "    return grid_y"
   ]
  },
  {
   "cell_type": "code",
   "execution_count": 9,
   "metadata": {},
   "outputs": [],
   "source": [
    "with torch.no_grad():\n",
    "    gp_logpdf = eval_grid(grid_x, lambda x: combine_logpdfs(gp(torch.from_numpy(x)) for gp in gps).loc)\n",
    "true_logpdf = eval_grid(grid_x, lambda x: combine_logpdfs(p.logpdf(x) for p in subposteriors))"
   ]
  },
  {
   "cell_type": "code",
   "execution_count": 10,
   "metadata": {},
   "outputs": [
    {
     "data": {
      "image/png": "[encoded data removed]",
      "text/plain": [
       "<Figure size 720x360 with 2 Axes>"
      ]
     },
     "metadata": {
      "needs_background": "light"
     },
     "output_type": "display_data"
    }
   ],
   "source": [
    "import matplotlib.pyplot as plt\n",
    "\n",
    "f, axs = plt.subplots(1, 2, figsize=(10, 5), sharex=True, sharey=True)\n",
    "axs[0].imshow(np.exp(true_logpdf.T), aspect='auto', extent=plot_bounds.T.reshape(-1), origin='lower', cmap='Blues')\n",
    "axs[0].set_title('True posterior')\n",
    "axs[1].imshow(np.exp(gp_logpdf.T), aspect='auto', extent=plot_bounds.T.reshape(-1), origin='lower', cmap='Reds')\n",
    "axs[1].set_title('PAI')\n",
    "axs[0].set_xticks(plot_bounds[:, 0]);\n",
    "axs[0].set_yticks(plot_bounds[:, 1]);"
   ]
  }
 ],
 "metadata": {
  "kernelspec": {
   "display_name": "Python 3 (ipykernel)",
   "language": "python",
   "name": "python3"
  },
  "language_info": {
   "codemirror_mode": {
    "name": "ipython",
    "version": 3
   },
   "file_extension": ".py",
   "mimetype": "text/x-python",
   "name": "python",
   "nbconvert_exporter": "python",
   "pygments_lexer": "ipython3",
   "version": "3.7.9"
  }
 },
 "nbformat": 4,
 "nbformat_minor": 4
}